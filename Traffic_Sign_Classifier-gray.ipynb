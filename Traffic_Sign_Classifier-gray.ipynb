{
 "cells": [
  {
   "cell_type": "markdown",
   "metadata": {},
   "source": [
    "# Self-Driving Car Engineer Nanodegree\n",
    "\n",
    "## Deep Learning\n",
    "\n",
    "## Project: Build a Traffic Sign Recognition Classifier\n",
    "\n",
    "In this notebook, a template is provided for you to implement your functionality in stages, which is required to successfully complete this project. If additional code is required that cannot be included in the notebook, be sure that the Python code is successfully imported and included in your submission if necessary. \n",
    "\n",
    "> **Note**: Once you have completed all of the code implementations, you need to finalize your work by exporting the iPython Notebook as an HTML document. Before exporting the notebook to html, all of the code cells need to have been run so that reviewers can see the final implementation and output. You can then export the notebook by using the menu above and navigating to  \\n\",\n",
    "    \"**File -> Download as -> HTML (.html)**. Include the finished document along with this notebook as your submission. \n",
    "\n",
    "In addition to implementing code, there is a writeup to complete. The writeup should be completed in a separate file, which can be either a markdown file or a pdf document. There is a [write up template](https://github.com/udacity/CarND-Traffic-Sign-Classifier-Project/blob/master/writeup_template.md) that can be used to guide the writing process. Completing the code template and writeup template will cover all of the [rubric points](https://review.udacity.com/#!/rubrics/481/view) for this project.\n",
    "\n",
    "The [rubric](https://review.udacity.com/#!/rubrics/481/view) contains \"Stand Out Suggestions\" for enhancing the project beyond the minimum requirements. The stand out suggestions are optional. If you decide to pursue the \"stand out suggestions\", you can include the code in this Ipython notebook and also discuss the results in the writeup file.\n",
    "\n",
    "\n",
    ">**Note:** Code and Markdown cells can be executed using the **Shift + Enter** keyboard shortcut. In addition, Markdown cells can be edited by typically double-clicking the cell to enter edit mode."
   ]
  },
  {
   "cell_type": "markdown",
   "metadata": {},
   "source": [
    "---\n",
    "## Step 0: Load The Data"
   ]
  },
  {
   "cell_type": "code",
   "execution_count": 1,
   "metadata": {},
   "outputs": [],
   "source": [
    "# Load pickled data\n",
    "import pickle\n",
    "\n",
    "# TODO: Fill this in based on where you saved the training and testing data\n",
    "\n",
    "training_file   = './data/traffic-signs-data/train.p'\n",
    "validation_file = './data/traffic-signs-data/valid.p'\n",
    "testing_file    = './data/traffic-signs-data/test.p'\n",
    "\n",
    "with open(training_file, mode='rb') as f:\n",
    "    train = pickle.load(f)\n",
    "with open(validation_file, mode='rb') as f:\n",
    "    valid = pickle.load(f)\n",
    "with open(testing_file, mode='rb') as f:\n",
    "    test = pickle.load(f)\n",
    "    \n",
    "    \n",
    "X_train, y_train = train['features'], train['labels']\n",
    "X_valid, y_valid = valid['features'], valid['labels']\n",
    "X_test, y_test = test['features'], test['labels']"
   ]
  },
  {
   "cell_type": "markdown",
   "metadata": {},
   "source": [
    "---\n",
    "\n",
    "## Step 1: Dataset Summary & Exploration\n",
    "\n",
    "The pickled data is a dictionary with 4 key/value pairs:\n",
    "\n",
    "- `'features'` is a 4D array containing raw pixel data of the traffic sign images, (num examples, width, height, channels).\n",
    "- `'labels'` is a 1D array containing the label/class id of the traffic sign. The file `signnames.csv` contains id -> name mappings for each id.\n",
    "- `'sizes'` is a list containing tuples, (width, height) representing the original width and height the image.\n",
    "- `'coords'` is a list containing tuples, (x1, y1, x2, y2) representing coordinates of a bounding box around the sign in the image. **THESE COORDINATES ASSUME THE ORIGINAL IMAGE. THE PICKLED DATA CONTAINS RESIZED VERSIONS (32 by 32) OF THESE IMAGES**\n",
    "\n",
    "Complete the basic data summary below. Use python, numpy and/or pandas methods to calculate the data summary rather than hard coding the results. For example, the [pandas shape method](http://pandas.pydata.org/pandas-docs/stable/generated/pandas.DataFrame.shape.html) might be useful for calculating some of the summary results. "
   ]
  },
  {
   "cell_type": "markdown",
   "metadata": {},
   "source": [
    "### Provide a Basic Summary of the Data Set Using Python, Numpy and/or Pandas"
   ]
  },
  {
   "cell_type": "code",
   "execution_count": 2,
   "metadata": {},
   "outputs": [
    {
     "name": "stdout",
     "output_type": "stream",
     "text": [
      "Number of training examples = 34799\n",
      "Number of validation examples = 4410\n",
      "Number of testing examples = 12630\n",
      "Image data shape = (32, 32, 3)\n",
      "Number of classes = 43\n"
     ]
    }
   ],
   "source": [
    "### Replace each question mark with the appropriate value. \n",
    "### Use python, pandas or numpy methods rather than hard coding the results\n",
    "import numpy as np\n",
    "\n",
    "# TODO: Number of training examples\n",
    "n_train = len(y_train)\n",
    "\n",
    "# TODO: Number of validation examples\n",
    "n_validation = len(y_valid)\n",
    "\n",
    "# TODO: Number of testing examples.\n",
    "n_test = len(y_test)\n",
    "\n",
    "# TODO: What's the shape of an traffic sign image?\n",
    "image_shape = X_train.shape[1:]\n",
    "\n",
    "# TODO: How many unique classes/labels there are in the dataset.\n",
    "label_set = set(y_train)\n",
    "n_classes = len(label_set)\n",
    "\n",
    "print(\"Number of training examples =\", n_train)\n",
    "print(\"Number of validation examples =\", n_validation)\n",
    "print(\"Number of testing examples =\", n_test)\n",
    "print(\"Image data shape =\", image_shape)\n",
    "print(\"Number of classes =\", n_classes)\n"
   ]
  },
  {
   "cell_type": "markdown",
   "metadata": {},
   "source": [
    "### Include an exploratory visualization of the dataset"
   ]
  },
  {
   "cell_type": "markdown",
   "metadata": {},
   "source": [
    "Visualize the German Traffic Signs Dataset using the pickled file(s). This is open ended, suggestions include: plotting traffic sign images, plotting the count of each sign, etc. \n",
    "\n",
    "The [Matplotlib](http://matplotlib.org/) [examples](http://matplotlib.org/examples/index.html) and [gallery](http://matplotlib.org/gallery.html) pages are a great resource for doing visualizations in Python.\n",
    "\n",
    "**NOTE:** It's recommended you start with something simple first. If you wish to do more, come back to it after you've completed the rest of the sections. It can be interesting to look at the distribution of classes in the training, validation and test set. Is the distribution the same? Are there more examples of some classes than others?"
   ]
  },
  {
   "cell_type": "code",
   "execution_count": 4,
   "metadata": {},
   "outputs": [
    {
     "name": "stdout",
     "output_type": "stream",
     "text": [
      "Label of this image is 25\n"
     ]
    },
    {
     "data": {
      "text/plain": [
       "<matplotlib.image.AxesImage at 0x1168fa97438>"
      ]
     },
     "execution_count": 4,
     "metadata": {},
     "output_type": "execute_result"
    },
    {
     "data": {
      "image/png": "[encoded data removed]",
      "text/plain": [
       "<matplotlib.figure.Figure at 0x1168f8e07f0>"
      ]
     },
     "metadata": {},
     "output_type": "display_data"
    },
    {
     "data": {
      "image/png": "[encoded data removed]",
      "text/plain": [
       "<matplotlib.figure.Figure at 0x1168fcd6b38>"
      ]
     },
     "metadata": {},
     "output_type": "display_data"
    },
    {
     "data": {
      "image/png": "[encoded data removed]",
      "text/plain": [
       "<matplotlib.figure.Figure at 0x1168fab8710>"
      ]
     },
     "metadata": {},
     "output_type": "display_data"
    }
   ],
   "source": [
    "### Data exploration visualization code goes here.\n",
    "### Feel free to use as many code cells as needed.\n",
    "import matplotlib.pyplot as plt\n",
    "import random \n",
    "import cv2\n",
    "# Visualizations will be shown in the notebook.\n",
    "%matplotlib inline\n",
    "\n",
    "img_num = int(random.random() * n_train)\n",
    "img = X_train[img_num]\n",
    "img_gray = cv2.cvtColor(img, cv2.COLOR_RGB2GRAY)\n",
    "img_hsv = cv2.cvtColor(img, cv2.COLOR_RGB2HSV)\n",
    "print('Label of this image is %d' % y_train[img_num])\n",
    "\n",
    "fig, (ax1,ax2) = plt.subplots(1, 2)\n",
    "ax1.imshow(img)\n",
    "ax1.set_title('RGB image')\n",
    "ax2.imshow(img_gray, 'gray')\n",
    "ax2.set_title('Grayscale image')\n",
    "plt.savefig('./fig/grayscale.png')\n",
    "\n",
    "fig, (ax1,ax2,ax3) = plt.subplots(1, 3)\n",
    "ax1.imshow(img[:,:,0], 'gray')\n",
    "ax1.set_title('R space')\n",
    "ax2.imshow(img[:,:,1], 'gray')\n",
    "ax2.set_title('G space')\n",
    "ax3.set_title('B space')\n",
    "ax3.imshow(img[:,:,2], 'gray')\n",
    "fig.savefig('./fig/RGB_example.png')\n",
    "\n",
    "\n",
    "fig, (ax1,ax2,ax3) = plt.subplots(1, 3)\n",
    "ax1.imshow(img_hsv[:,:,0], 'gray')\n",
    "ax1.set_title('H space')\n",
    "ax2.imshow(img_hsv[:,:,1], 'gray')\n",
    "ax2.set_title('S space')\n",
    "ax3.set_title('V space')\n",
    "ax3.imshow(img_hsv[:,:,2], 'gray')\n",
    "\n"
   ]
  },
  {
   "cell_type": "code",
   "execution_count": 5,
   "metadata": {},
   "outputs": [
    {
     "data": {
      "image/png": "[encoded data removed]",
      "text/plain": [
       "<matplotlib.figure.Figure at 0x1168d89f4e0>"
      ]
     },
     "metadata": {},
     "output_type": "display_data"
    }
   ],
   "source": [
    "labels = np.linspace(0, n_classes-1,n_classes)\n",
    "hist = np.zeros([n_classes])\n",
    "\n",
    "\n",
    "\n",
    "for i in range(n_train):\n",
    "    hist[y_train[i]] += 1\n",
    "\n",
    "plt.bar(labels, hist)\n",
    "plt.xlabel('Label num')\n",
    "plt.ylabel('Sample number')\n",
    "plt.savefig('./fig/sample_distribution.png')\n",
    "plt.show()\n"
   ]
  },
  {
   "cell_type": "markdown",
   "metadata": {},
   "source": [
    "----\n",
    "\n",
    "## Step 2: Design and Test a Model Architecture\n",
    "\n",
    "Design and implement a deep learning model that learns to recognize traffic signs. Train and test your model on the [German Traffic Sign Dataset](http://benchmark.ini.rub.de/?section=gtsrb&subsection=dataset).\n",
    "\n",
    "The LeNet-5 implementation shown in the [classroom](https://classroom.udacity.com/nanodegrees/nd013/parts/fbf77062-5703-404e-b60c-95b78b2f3f9e/modules/6df7ae49-c61c-4bb2-a23e-6527e69209ec/lessons/601ae704-1035-4287-8b11-e2c2716217ad/concepts/d4aca031-508f-4e0b-b493-e7b706120f81) at the end of the CNN lesson is a solid starting point. You'll have to change the number of classes and possibly the preprocessing, but aside from that it's plug and play! \n",
    "\n",
    "With the LeNet-5 solution from the lecture, you should expect a validation set accuracy of about 0.89. To meet specifications, the validation set accuracy will need to be at least 0.93. It is possible to get an even higher accuracy, but 0.93 is the minimum for a successful project submission. \n",
    "\n",
    "There are various aspects to consider when thinking about this problem:\n",
    "\n",
    "- Neural network architecture (is the network over or underfitting?)\n",
    "- Play around preprocessing techniques (normalization, rgb to grayscale, etc)\n",
    "- Number of examples per label (some have more than others).\n",
    "- Generate fake data.\n",
    "\n",
    "Here is an example of a [published baseline model on this problem](http://yann.lecun.com/exdb/publis/pdf/sermanet-ijcnn-11.pdf). It's not required to be familiar with the approach used in the paper but, it's good practice to try to read papers like these."
   ]
  },
  {
   "cell_type": "markdown",
   "metadata": {},
   "source": [
    "### Pre-process the Data Set (normalization, grayscale, etc.)"
   ]
  },
  {
   "cell_type": "markdown",
   "metadata": {},
   "source": [
    "Minimally, the image data should be normalized so that the data has mean zero and equal variance. For image data, `(pixel - 128)/ 128` is a quick way to approximately normalize the data and can be used in this project. \n",
    "\n",
    "Other pre-processing steps are optional. You can try different techniques to see if it improves performance. \n",
    "\n",
    "Use the code cell (or multiple code cells, if necessary) to implement the first step of your project."
   ]
  },
  {
   "cell_type": "code",
   "execution_count": 6,
   "metadata": {},
   "outputs": [
    {
     "name": "stdout",
     "output_type": "stream",
     "text": [
      "Average gray intensity is 81.917239\n"
     ]
    }
   ],
   "source": [
    "\n",
    "## Convert training images as gray scale\n",
    "def RGB2GRAY(X):\n",
    "    X_gray = np.zeros((X.shape[0],32,32,1))\n",
    "    for i in range(X.shape[0]):\n",
    "        X_gray[i,:,:,0] = cv2.cvtColor(X[i], cv2.COLOR_RGB2GRAY)\n",
    "    return X_gray\n",
    "    \n",
    "\n",
    "\n",
    "X_train = RGB2GRAY(X_train)\n",
    "X_valid = RGB2GRAY(X_valid)\n",
    "X_test  = RGB2GRAY(X_test)\n",
    "\n",
    "gray_mean   = 0\n",
    "\n",
    "\n",
    "for i in range(n_train):\n",
    "    gray_mean   += np.mean(X_train[i,:,:,0])\n",
    "\n",
    "    \n",
    "gray_mean  /=  n_train\n",
    "print('Average gray intensity is %f' % gray_mean)\n"
   ]
  },
  {
   "cell_type": "code",
   "execution_count": 7,
   "metadata": {},
   "outputs": [],
   "source": [
    "### Preprocess the data here. It is required to normalize the data. Other preprocessing steps could include \n",
    "### converting to grayscale, etc.\n",
    "### Feel free to use as many code cells as needed.\n",
    "\n",
    "def normalize_img(pixel):\n",
    "    return (pixel-gray_mean)/256\n",
    "\n",
    "\n",
    "X_train = normalize_img(X_train)\n",
    "X_valid = normalize_img(X_valid)\n",
    "X_test  = normalize_img(X_test)"
   ]
  },
  {
   "cell_type": "markdown",
   "metadata": {},
   "source": [
    "### Model Architecture"
   ]
  },
  {
   "cell_type": "code",
   "execution_count": 8,
   "metadata": {},
   "outputs": [
    {
     "name": "stderr",
     "output_type": "stream",
     "text": [
      "C:\\Users\\taira\\Anaconda3\\lib\\site-packages\\h5py\\__init__.py:36: FutureWarning: Conversion of the second argument of issubdtype from `float` to `np.floating` is deprecated. In future, it will be treated as `np.float64 == np.dtype(float).type`.\n",
      "  from ._conv import register_converters as _register_converters\n"
     ]
    },
    {
     "name": "stdout",
     "output_type": "stream",
     "text": [
      "WARNING:tensorflow:From C:\\Users\\taira\\Anaconda3\\lib\\site-packages\\tensorflow\\contrib\\learn\\python\\learn\\datasets\\base.py:198: retry (from tensorflow.contrib.learn.python.learn.datasets.base) is deprecated and will be removed in a future version.\n",
      "Instructions for updating:\n",
      "Use the retry module or similar alternatives.\n"
     ]
    }
   ],
   "source": [
    "### Define your architecture here.\n",
    "### Feel free to use as many code cells as needed.\n",
    "\n",
    "\n",
    "### without dropout ###\n",
    "\n",
    "import tensorflow as tf\n",
    "from tensorflow.contrib.layers import flatten\n",
    "\n",
    "x = tf.placeholder(tf.float32, [None, 32, 32, 1])\n",
    "keep_prob = tf.placeholder(tf.float32)\n",
    "  \n",
    "# Arguments used for tf.truncated_normal, randomly defines variables for the weights and biases for each layer\n",
    "mu = 0\n",
    "sigma = 0.1\n",
    "\n",
    "# Lenet classification\n",
    "weights = [tf.Variable(tf.truncated_normal([5,5,1,6] , mu, sigma)),\n",
    "           tf.Variable(tf.truncated_normal([5,5,6,16], mu, sigma)),\n",
    "           tf.Variable(tf.truncated_normal([400,120] , mu, sigma)),\n",
    "           tf.Variable(tf.truncated_normal([120,84]  , mu, sigma)),\n",
    "           tf.Variable(tf.truncated_normal([84,n_classes]   , mu, sigma))]\n",
    "\n",
    "\n",
    "biases  = [tf.Variable(tf.zeros(6))  ,\n",
    "           tf.Variable(tf.zeros(16)) ,\n",
    "           tf.Variable(tf.zeros(120)),\n",
    "           tf.Variable(tf.zeros(84)) ,\n",
    "           tf.Variable(tf.zeros(n_classes))]\n",
    "\n",
    "\n",
    "# Layer 1: Convolutional. Input = 32x32x1. Output = 28x28x6.\n",
    "hidden_layer_1 = tf.nn.conv2d(x, weights[0],strides=[1,1,1,1], padding='VALID')\n",
    "hidden_layer_1 = tf.nn.bias_add(hidden_layer_1, biases[0])\n",
    "# Activation.\n",
    "hidden_layer_1 = tf.nn.relu(hidden_layer_1)\n",
    "# Dropout\n",
    "hidden_layer_1 = tf.nn.dropout(hidden_layer_1, keep_prob)\n",
    "# Pooling. Input = 28x28x6. Output = 14x14x6.\n",
    "hidden_layer_1 = tf.nn.max_pool(hidden_layer_1, ksize=[1,2,2,1], strides=[1,2,2,1], padding='SAME')\n",
    "\n",
    "#  Layer 2: Convolutional. Output = 10x10x16.\n",
    "hidden_layer_2 = tf.nn.conv2d(hidden_layer_1, weights[1],strides=[1,1,1,1], padding='VALID')\n",
    "hidden_layer_2 = tf.nn.bias_add(hidden_layer_2, biases[1])\n",
    "# Activation.\n",
    "hidden_layer_2 = tf.nn.relu(hidden_layer_2)\n",
    "# Dropout\n",
    "hidden_layer_2 = tf.nn.dropout(hidden_layer_2, keep_prob)\n",
    "# TODO: Pooling. Input = 10x10x16. Output = 5x5x16.\n",
    "hidden_layer_2 = tf.nn.max_pool(hidden_layer_2, ksize=[1,2,2,1], strides=[1,2,2,1], padding='SAME')\n",
    "\n",
    "# Flatten. Input = 5x5x16. Output = 400.\n",
    "fully_connected_layer_1 = tf.contrib.layers.flatten(hidden_layer_2)\n",
    "\n",
    "\n",
    "# Layer 3: Fully Connected. Input = 400. Output = 120.\n",
    "fully_connected_layer_1 = tf.add(tf.matmul(fully_connected_layer_1, weights[2]), biases[2])\n",
    "# Activation.\n",
    "fully_connected_layer_1 = tf.nn.relu(fully_connected_layer_1)\n",
    "# Dropout\n",
    "fully_connected_layer_1 = tf.nn.dropout(fully_connected_layer_1, keep_prob)\n",
    "\n",
    "# Layer 4: Fully Connected. Input = 120. Output = 84.\n",
    "fully_connected_layer_2 = tf.add(tf.matmul(fully_connected_layer_1, weights[3]), biases[3])\n",
    "# Activation.\n",
    "fully_connected_layer_2 = tf.nn.relu(fully_connected_layer_2)\n",
    "# Dropout\n",
    "fully_connected_layer_2 = tf.nn.dropout(fully_connected_layer_2, keep_prob)\n",
    "\n",
    "\n",
    "# Layer 5: Fully Connected. Input = 84. Output = 43.\n",
    "logits = tf.add(tf.matmul(fully_connected_layer_2, weights[4]), biases[4])\n",
    "\n",
    "\n",
    "\n"
   ]
  },
  {
   "cell_type": "markdown",
   "metadata": {},
   "source": [
    "### Train, Validate and Test the Model"
   ]
  },
  {
   "cell_type": "markdown",
   "metadata": {},
   "source": [
    "A validation set can be used to assess how well the model is performing. A low accuracy on the training and validation\n",
    "sets imply underfitting. A high accuracy on the training set but low accuracy on the validation set implies overfitting."
   ]
  },
  {
   "cell_type": "code",
   "execution_count": 60,
   "metadata": {},
   "outputs": [],
   "source": [
    "### Train your model here.\n",
    "### Calculate and report the accuracy on the training and validation set.\n",
    "### Once a final model architecture is selected, \n",
    "### the accuracy on the test set should be calculated and reported as well.\n",
    "### Feel free to use as many code cells as needed.\n",
    "from sklearn.utils import shuffle\n",
    "\n",
    "# x = tf.placeholder(tf.float32, (None, 32, 32, 1))\n",
    "y = tf.placeholder(tf.int32, (None))\n",
    "one_hot_y = tf.one_hot(y, n_classes)\n",
    "# keep_prob = tf.placeholder(tf.float32)\n",
    "\n",
    "rate = 0.001\n",
    "EPOCHS = 55\n",
    "BATCH_SIZE = 256\n",
    "\n",
    "# logits = LeNet(x, keep_prob)\n",
    "cross_entropy = tf.nn.softmax_cross_entropy_with_logits(labels=one_hot_y, logits=logits)\n",
    "loss_operation = tf.reduce_mean(cross_entropy)\n",
    "optimizer = tf.train.AdamOptimizer(learning_rate = rate)\n",
    "training_operation = optimizer.minimize(loss_operation)"
   ]
  },
  {
   "cell_type": "code",
   "execution_count": 61,
   "metadata": {},
   "outputs": [],
   "source": [
    "correct_prediction = tf.equal(tf.argmax(logits, 1), tf.argmax(one_hot_y, 1))\n",
    "accuracy_operation = tf.reduce_mean(tf.cast(correct_prediction, tf.float32))\n",
    "saver = tf.train.Saver()\n",
    "\n",
    "def evaluate(X_data, y_data):\n",
    "    num_examples = len(X_data)\n",
    "    total_accuracy = 0\n",
    "    sess = tf.get_default_session()\n",
    "    for offset in range(0, num_examples, BATCH_SIZE):\n",
    "        batch_x, batch_y = X_data[offset:offset+BATCH_SIZE], y_data[offset:offset+BATCH_SIZE]\n",
    "        accuracy = sess.run(accuracy_operation, feed_dict={x: batch_x, y: batch_y, keep_prob:1.0})\n",
    "        total_accuracy += (accuracy * len(batch_x))\n",
    "    return total_accuracy / num_examples"
   ]
  },
  {
   "cell_type": "code",
   "execution_count": 62,
   "metadata": {},
   "outputs": [
    {
     "name": "stdout",
     "output_type": "stream",
     "text": [
      "Training...\n",
      "\n",
      "EPOCH 1 ...\n",
      "Training Accuracy = 0.489\n",
      "Validation Accuracy = 0.456\n",
      "\n",
      "EPOCH 2 ...\n",
      "Training Accuracy = 0.758\n",
      "Validation Accuracy = 0.707\n",
      "\n",
      "EPOCH 3 ...\n",
      "Training Accuracy = 0.847\n",
      "Validation Accuracy = 0.789\n",
      "\n",
      "EPOCH 4 ...\n",
      "Training Accuracy = 0.896\n",
      "Validation Accuracy = 0.830\n",
      "\n",
      "EPOCH 5 ...\n",
      "Training Accuracy = 0.918\n",
      "Validation Accuracy = 0.860\n",
      "\n",
      "EPOCH 6 ...\n",
      "Training Accuracy = 0.933\n",
      "Validation Accuracy = 0.872\n",
      "\n",
      "EPOCH 7 ...\n",
      "Training Accuracy = 0.940\n",
      "Validation Accuracy = 0.883\n",
      "\n",
      "EPOCH 8 ...\n",
      "Training Accuracy = 0.948\n",
      "Validation Accuracy = 0.897\n",
      "\n",
      "EPOCH 9 ...\n",
      "Training Accuracy = 0.953\n",
      "Validation Accuracy = 0.898\n",
      "\n",
      "EPOCH 10 ...\n",
      "Training Accuracy = 0.959\n",
      "Validation Accuracy = 0.916\n",
      "\n",
      "EPOCH 11 ...\n",
      "Training Accuracy = 0.960\n",
      "Validation Accuracy = 0.913\n",
      "\n",
      "EPOCH 12 ...\n",
      "Training Accuracy = 0.962\n",
      "Validation Accuracy = 0.913\n",
      "\n",
      "EPOCH 13 ...\n",
      "Training Accuracy = 0.968\n",
      "Validation Accuracy = 0.921\n",
      "\n",
      "EPOCH 14 ...\n",
      "Training Accuracy = 0.969\n",
      "Validation Accuracy = 0.918\n",
      "\n",
      "EPOCH 15 ...\n",
      "Training Accuracy = 0.977\n",
      "Validation Accuracy = 0.924\n",
      "\n",
      "EPOCH 16 ...\n",
      "Training Accuracy = 0.975\n",
      "Validation Accuracy = 0.922\n",
      "\n",
      "EPOCH 17 ...\n",
      "Training Accuracy = 0.977\n",
      "Validation Accuracy = 0.926\n",
      "\n",
      "EPOCH 18 ...\n",
      "Training Accuracy = 0.976\n",
      "Validation Accuracy = 0.920\n",
      "\n",
      "EPOCH 19 ...\n",
      "Training Accuracy = 0.979\n",
      "Validation Accuracy = 0.929\n",
      "\n",
      "EPOCH 20 ...\n",
      "Training Accuracy = 0.979\n",
      "Validation Accuracy = 0.934\n",
      "\n",
      "EPOCH 21 ...\n",
      "Training Accuracy = 0.981\n",
      "Validation Accuracy = 0.933\n",
      "\n",
      "EPOCH 22 ...\n",
      "Training Accuracy = 0.984\n",
      "Validation Accuracy = 0.938\n",
      "\n",
      "EPOCH 23 ...\n",
      "Training Accuracy = 0.982\n",
      "Validation Accuracy = 0.937\n",
      "\n",
      "EPOCH 24 ...\n",
      "Training Accuracy = 0.984\n",
      "Validation Accuracy = 0.934\n",
      "\n",
      "EPOCH 25 ...\n",
      "Training Accuracy = 0.986\n",
      "Validation Accuracy = 0.938\n",
      "\n",
      "EPOCH 26 ...\n",
      "Training Accuracy = 0.986\n",
      "Validation Accuracy = 0.939\n",
      "\n",
      "EPOCH 27 ...\n",
      "Training Accuracy = 0.987\n",
      "Validation Accuracy = 0.931\n",
      "\n",
      "EPOCH 28 ...\n",
      "Training Accuracy = 0.988\n",
      "Validation Accuracy = 0.943\n",
      "\n",
      "EPOCH 29 ...\n",
      "Training Accuracy = 0.990\n",
      "Validation Accuracy = 0.945\n",
      "\n",
      "EPOCH 30 ...\n",
      "Training Accuracy = 0.988\n",
      "Validation Accuracy = 0.939\n",
      "\n",
      "EPOCH 31 ...\n",
      "Training Accuracy = 0.990\n",
      "Validation Accuracy = 0.939\n",
      "\n",
      "EPOCH 32 ...\n",
      "Training Accuracy = 0.990\n",
      "Validation Accuracy = 0.940\n",
      "\n",
      "EPOCH 33 ...\n",
      "Training Accuracy = 0.990\n",
      "Validation Accuracy = 0.942\n",
      "\n",
      "EPOCH 34 ...\n",
      "Training Accuracy = 0.989\n",
      "Validation Accuracy = 0.937\n",
      "\n",
      "EPOCH 35 ...\n",
      "Training Accuracy = 0.992\n",
      "Validation Accuracy = 0.942\n",
      "\n",
      "EPOCH 36 ...\n",
      "Training Accuracy = 0.991\n",
      "Validation Accuracy = 0.940\n",
      "\n",
      "EPOCH 37 ...\n",
      "Training Accuracy = 0.992\n",
      "Validation Accuracy = 0.946\n",
      "\n",
      "EPOCH 38 ...\n",
      "Training Accuracy = 0.992\n",
      "Validation Accuracy = 0.946\n",
      "\n",
      "EPOCH 39 ...\n",
      "Training Accuracy = 0.992\n",
      "Validation Accuracy = 0.943\n",
      "\n",
      "EPOCH 40 ...\n",
      "Training Accuracy = 0.993\n",
      "Validation Accuracy = 0.943\n",
      "\n",
      "EPOCH 41 ...\n",
      "Training Accuracy = 0.993\n",
      "Validation Accuracy = 0.951\n",
      "\n",
      "EPOCH 42 ...\n",
      "Training Accuracy = 0.992\n",
      "Validation Accuracy = 0.946\n",
      "\n",
      "EPOCH 43 ...\n",
      "Training Accuracy = 0.993\n",
      "Validation Accuracy = 0.943\n",
      "\n",
      "EPOCH 44 ...\n",
      "Training Accuracy = 0.994\n",
      "Validation Accuracy = 0.947\n",
      "\n",
      "EPOCH 45 ...\n",
      "Training Accuracy = 0.993\n",
      "Validation Accuracy = 0.947\n",
      "\n",
      "EPOCH 46 ...\n",
      "Training Accuracy = 0.994\n",
      "Validation Accuracy = 0.948\n",
      "\n",
      "EPOCH 47 ...\n",
      "Training Accuracy = 0.994\n",
      "Validation Accuracy = 0.952\n",
      "\n",
      "EPOCH 48 ...\n",
      "Training Accuracy = 0.994\n",
      "Validation Accuracy = 0.947\n",
      "\n",
      "EPOCH 49 ...\n",
      "Training Accuracy = 0.994\n",
      "Validation Accuracy = 0.940\n",
      "\n",
      "EPOCH 50 ...\n",
      "Training Accuracy = 0.994\n",
      "Validation Accuracy = 0.947\n",
      "\n",
      "EPOCH 51 ...\n",
      "Training Accuracy = 0.994\n",
      "Validation Accuracy = 0.952\n",
      "\n",
      "EPOCH 52 ...\n",
      "Training Accuracy = 0.994\n",
      "Validation Accuracy = 0.947\n",
      "\n",
      "EPOCH 53 ...\n",
      "Training Accuracy = 0.995\n",
      "Validation Accuracy = 0.946\n",
      "\n",
      "EPOCH 54 ...\n",
      "Training Accuracy = 0.995\n",
      "Validation Accuracy = 0.939\n",
      "\n",
      "EPOCH 55 ...\n",
      "Training Accuracy = 0.994\n",
      "Validation Accuracy = 0.946\n",
      "\n",
      "Model saved\n"
     ]
    },
    {
     "data": {
      "image/png": "[encoded data removed]",
      "text/plain": [
       "<matplotlib.figure.Figure at 0x116bc871208>"
      ]
     },
     "metadata": {},
     "output_type": "display_data"
    }
   ],
   "source": [
    "training_accuracies = []\n",
    "validation_accuracies = []\n",
    "epochs_num = np.arange(1,EPOCHS+1)\n",
    "\n",
    "dropout = 0.6\n",
    "\n",
    "\n",
    "with tf.Session() as sess:\n",
    "    sess.run(tf.global_variables_initializer())\n",
    "    num_examples = len(X_train)\n",
    "    \n",
    "    print(\"Training...\")\n",
    "    print()\n",
    "    for i in range(EPOCHS):\n",
    "        X_train, y_train = shuffle(X_train, y_train)\n",
    "        for offset in range(0, num_examples, BATCH_SIZE):\n",
    "            end = offset + BATCH_SIZE\n",
    "            batch_x, batch_y = X_train[offset:end], y_train[offset:end]\n",
    "            sess.run(training_operation, feed_dict={x: batch_x, y: batch_y, keep_prob: dropout})\n",
    "            \n",
    "        \n",
    "        print(\"EPOCH {} ...\".format(i+1))\n",
    "        training_accuracy = evaluate(X_train, y_train)\n",
    "        training_accuracies.append(training_accuracy)\n",
    "        print(\"Training Accuracy = {:.3f}\".format(training_accuracy))\n",
    "        validation_accuracy = evaluate(X_valid, y_valid)\n",
    "        validation_accuracies.append(validation_accuracy)\n",
    "        print(\"Validation Accuracy = {:.3f}\".format(validation_accuracy))\n",
    "        print()\n",
    "        \n",
    "    saver.save(sess, './lenet')\n",
    "    print(\"Model saved\")\n",
    "    \n",
    "    \n",
    "plt.plot(epochs_num, training_accuracies, 'rs-', label='training')\n",
    "plt.plot(epochs_num, validation_accuracies, 'b*--', label='validation')\n",
    "plt.legend()\n",
    "plt.xlabel('EPOCHS[-]')\n",
    "plt.ylabel('Accuracy[-]')\n",
    "plt.ylim([0, 1.0])\n",
    "plt.grid()\n",
    "plt.savefig('./fig/rate'+ str(rate) + '_epochs' + str(EPOCHS) + '_BATCH' + str(BATCH_SIZE) + '_dropout'+ str(dropout)  + '_1.png')\n",
    "\n",
    "plt.ylim([0.8, 1.0])\n",
    "\n",
    "plt.savefig('./fig/rate'+ str(rate) + '_epochs' + str(EPOCHS) + '_BATCH' + str(BATCH_SIZE) + '_dropout'+ str(dropout)  + '_2.png')\n",
    "\n",
    "plt.show()"
   ]
  },
  {
   "cell_type": "code",
   "execution_count": 51,
   "metadata": {},
   "outputs": [
    {
     "name": "stdout",
     "output_type": "stream",
     "text": [
      "INFO:tensorflow:Restoring parameters from .\\lenet\n",
      "Training...\n",
      "\n",
      "EPOCH 71 ...\n",
      "Training Accuracy = 0.991\n",
      "Validation Accuracy = 0.955\n",
      "\n",
      "EPOCH 72 ...\n",
      "Training Accuracy = 0.989\n",
      "Validation Accuracy = 0.951\n",
      "\n",
      "EPOCH 73 ...\n",
      "Training Accuracy = 0.992\n",
      "Validation Accuracy = 0.959\n",
      "\n",
      "Model saved\n"
     ]
    },
    {
     "data": {
      "image/png": "[encoded data removed]",
      "text/plain": [
       "<matplotlib.figure.Figure at 0x116bc9ea208>"
      ]
     },
     "metadata": {},
     "output_type": "display_data"
    }
   ],
   "source": [
    "EPOCHS2 = 3\n",
    "epochs_num2 = np.arange(1,EPOCHS+EPOCHS2+1)\n",
    "\n",
    "\n",
    "\n",
    "with tf.Session() as sess:\n",
    "    saver.restore(sess, tf.train.latest_checkpoint('.'))\n",
    "    num_examples = len(X_train)\n",
    "    \n",
    "    print(\"Training...\")\n",
    "    print()\n",
    "    for i in range(EPOCHS2):\n",
    "        X_train, y_train = shuffle(X_train, y_train)\n",
    "        for offset in range(0, num_examples, BATCH_SIZE):\n",
    "            end = offset + BATCH_SIZE\n",
    "            batch_x, batch_y = X_train[offset:end], y_train[offset:end]\n",
    "            sess.run(training_operation, feed_dict={x: batch_x, y: batch_y, keep_prob: dropout})\n",
    "            \n",
    "        \n",
    "        print(\"EPOCH {} ...\".format(i+1+EPOCHS))\n",
    "        training_accuracy = evaluate(X_train, y_train)\n",
    "        training_accuracies.append(training_accuracy)\n",
    "        print(\"Training Accuracy = {:.3f}\".format(training_accuracy))\n",
    "        validation_accuracy = evaluate(X_valid, y_valid)\n",
    "        validation_accuracies.append(validation_accuracy)\n",
    "        print(\"Validation Accuracy = {:.3f}\".format(validation_accuracy))\n",
    "        print()\n",
    "        \n",
    "    saver.save(sess, './lenet')\n",
    "    print(\"Model saved\")\n",
    "    \n",
    "    \n",
    "plt.plot(epochs_num2, training_accuracies, 'rs-', label='training')\n",
    "plt.plot(epochs_num2, validation_accuracies, 'b*--', label='validation')\n",
    "plt.legend()\n",
    "plt.xlabel('EPOCHS[-]')\n",
    "plt.ylabel('Accuracy[-]')\n",
    "plt.ylim([0, 1.0])\n",
    "plt.grid()\n",
    "plt.savefig('./fig/rate'+ str(rate) + '_epochs' + str(EPOCHS+EPOCHS2) + '_BATCH' + str(BATCH_SIZE) + '_dropout'+ str(dropout)  + '_1.png')\n",
    "\n",
    "plt.ylim([0.8, 1.0])\n",
    "\n",
    "plt.savefig('./fig/rate'+ str(rate) + '_epochs' + str(EPOCHS+EPOCHS2) + '_BATCH' + str(BATCH_SIZE) + '_dropout'+ str(dropout)  + '_2.png')\n",
    "\n",
    "plt.show()"
   ]
  },
  {
   "cell_type": "code",
   "execution_count": 52,
   "metadata": {},
   "outputs": [
    {
     "name": "stdout",
     "output_type": "stream",
     "text": [
      "INFO:tensorflow:Restoring parameters from .\\lenet\n",
      "Test Accuracy = 0.939\n"
     ]
    }
   ],
   "source": [
    "with tf.Session() as sess:\n",
    "    saver.restore(sess, tf.train.latest_checkpoint('.'))\n",
    "\n",
    "    test_accuracy = evaluate(X_test, y_test)\n",
    "    print(\"Test Accuracy = {:.3f}\".format(test_accuracy))"
   ]
  },
  {
   "cell_type": "markdown",
   "metadata": {},
   "source": [
    "---\n",
    "\n",
    "## Step 3: Test a Model on New Images\n",
    "\n",
    "To give yourself more insight into how your model is working, download at least five pictures of German traffic signs from the web and use your model to predict the traffic sign type.\n",
    "\n",
    "You may find `signnames.csv` useful as it contains mappings from the class id (integer) to the actual sign name."
   ]
  },
  {
   "cell_type": "markdown",
   "metadata": {},
   "source": [
    "### Load and Output the Images"
   ]
  },
  {
   "cell_type": "code",
   "execution_count": 53,
   "metadata": {},
   "outputs": [
    {
     "name": "stdout",
     "output_type": "stream",
     "text": [
      "(750, 750, 3)\n",
      "(879, 880, 3)\n",
      "(286, 286, 3)\n",
      "(225, 226, 3)\n",
      "(480, 480, 3)\n",
      "(460, 460, 3)\n",
      "(6, 32, 32, 3)\n"
     ]
    },
    {
     "data": {
      "image/png": "[encoded data removed]",
      "text/plain": [
       "<matplotlib.figure.Figure at 0x116bc7ec400>"
      ]
     },
     "metadata": {},
     "output_type": "display_data"
    }
   ],
   "source": [
    "### Load the images and plot them here.\n",
    "### Feel free to use as many code cells as needed.\n",
    "\n",
    "### from https://weimengpu.github.io/Traffic-Sign-Rechttps://www.istockphoto.com/jp/%E3%82%A4%E3%83%A9%E3%82%B9%E3%83%88/german-signsognition/ \n",
    "### \n",
    "\n",
    "test_imgs = np.empty((0,32,32,3), np.uint8)\n",
    "y_web_imgs = np.array([11,13,4,25,14,33])\n",
    "\n",
    "for i in range(6):\n",
    "    file_path = './data/fromweb/test'+ str(i) +'.jpg'\n",
    "    test_img  = plt.imread(file_path)\n",
    "    height = test_img.shape[0]\n",
    "    width  = test_img.shape[1]\n",
    "    crop_length = int((width-height)/2)\n",
    "    test_img = test_img[:,crop_length:width-crop_length ,:]\n",
    "    print(test_img.shape)\n",
    "    test_img = cv2.resize(test_img, (32,32))\n",
    "    test_imgs = np.append(test_imgs,[test_img], axis=0)\n",
    "\n",
    "print(test_imgs.shape)\n",
    "for i in range(len(test_imgs)):\n",
    "    plt.imshow(test_imgs[i])\n",
    "    plt.savefig('./fig/websample_' + str(i) + '.png')\n",
    "X_web_imgs = RGB2GRAY(test_imgs)\n",
    "X_web_imgs = normalize_img(X_web_imgs)"
   ]
  },
  {
   "cell_type": "markdown",
   "metadata": {},
   "source": [
    "### Predict the Sign Type for Each Image"
   ]
  },
  {
   "cell_type": "code",
   "execution_count": 54,
   "metadata": {},
   "outputs": [
    {
     "name": "stdout",
     "output_type": "stream",
     "text": [
      "INFO:tensorflow:Restoring parameters from .\\lenet\n",
      "Predictions are [11  2  4 25 14 33]\n"
     ]
    }
   ],
   "source": [
    "### Run the predictions here and use the model to output the prediction for each image.\n",
    "### Make sure to pre-process the images with the same pre-processing pipeline used earlier.\n",
    "### Feel free to use as many code cells as needed.\n",
    "\n",
    "prediction = tf.argmax(logits,1)\n",
    "\n",
    "with tf.Session() as sess:\n",
    "    saver.restore(sess, tf.train.latest_checkpoint('.'))\n",
    "    print('Predictions are ' + str(sess.run(prediction, feed_dict={x:X_web_imgs, keep_prob:1.0})))\n",
    "                  \n",
    "\n"
   ]
  },
  {
   "cell_type": "markdown",
   "metadata": {},
   "source": [
    "### Analyze Performance"
   ]
  },
  {
   "cell_type": "code",
   "execution_count": 55,
   "metadata": {},
   "outputs": [
    {
     "name": "stdout",
     "output_type": "stream",
     "text": [
      "INFO:tensorflow:Restoring parameters from .\\lenet\n",
      "Training Accuracy = 83.3 %\n"
     ]
    }
   ],
   "source": [
    "### Calculate the accuracy for these 5 new images. \n",
    "### For example, if the model predicted 1 out of 5 signs correctly, it's 20% accurate on these new images.\n",
    "\n",
    "with tf.Session() as sess:\n",
    "    saver.restore(sess, tf.train.latest_checkpoint('.'))\n",
    "    web_accuracy = evaluate(X_web_imgs, y_web_imgs)*100\n",
    "    print(\"Training Accuracy = {:.1f} %\".format(web_accuracy))\n"
   ]
  },
  {
   "cell_type": "markdown",
   "metadata": {},
   "source": [
    "### Output Top 5 Softmax Probabilities For Each Image Found on the Web"
   ]
  },
  {
   "cell_type": "markdown",
   "metadata": {},
   "source": [
    "For each of the new images, print out the model's softmax probabilities to show the **certainty** of the model's predictions (limit the output to the top 5 probabilities for each image). [`tf.nn.top_k`](https://www.tensorflow.org/versions/r0.12/api_docs/python/nn.html#top_k) could prove helpful here. \n",
    "\n",
    "The example below demonstrates how tf.nn.top_k can be used to find the top k predictions for each image.\n",
    "\n",
    "`tf.nn.top_k` will return the values and indices (class ids) of the top k predictions. So if k=3, for each sign, it'll return the 3 largest probabilities (out of a possible 43) and the correspoding class ids.\n",
    "\n",
    "Take this numpy array as an example. The values in the array represent predictions. The array contains softmax probabilities for five candidate images with six possible classes. `tf.nn.top_k` is used to choose the three classes with the highest probability:\n",
    "\n",
    "```\n",
    "# (5, 6) array\n",
    "a = np.array([[ 0.24879643,  0.07032244,  0.12641572,  0.34763842,  0.07893497,\n",
    "         0.12789202],\n",
    "       [ 0.28086119,  0.27569815,  0.08594638,  0.0178669 ,  0.18063401,\n",
    "         0.15899337],\n",
    "       [ 0.26076848,  0.23664738,  0.08020603,  0.07001922,  0.1134371 ,\n",
    "         0.23892179],\n",
    "       [ 0.11943333,  0.29198961,  0.02605103,  0.26234032,  0.1351348 ,\n",
    "         0.16505091],\n",
    "       [ 0.09561176,  0.34396535,  0.0643941 ,  0.16240774,  0.24206137,\n",
    "         0.09155967]])\n",
    "```\n",
    "\n",
    "Running it through `sess.run(tf.nn.top_k(tf.constant(a), k=3))` produces:\n",
    "\n",
    "```\n",
    "TopKV2(values=array([[ 0.34763842,  0.24879643,  0.12789202],\n",
    "       [ 0.28086119,  0.27569815,  0.18063401],\n",
    "       [ 0.26076848,  0.23892179,  0.23664738],\n",
    "       [ 0.29198961,  0.26234032,  0.16505091],\n",
    "       [ 0.34396535,  0.24206137,  0.16240774]]), indices=array([[3, 0, 5],\n",
    "       [0, 1, 4],\n",
    "       [0, 5, 1],\n",
    "       [1, 3, 5],\n",
    "       [1, 4, 3]], dtype=int32))\n",
    "```\n",
    "\n",
    "Looking just at the first row we get `[ 0.34763842,  0.24879643,  0.12789202]`, you can confirm these are the 3 largest probabilities in `a`. You'll also notice `[3, 0, 5]` are the corresponding indices."
   ]
  },
  {
   "cell_type": "code",
   "execution_count": 56,
   "metadata": {},
   "outputs": [
    {
     "name": "stdout",
     "output_type": "stream",
     "text": [
      "INFO:tensorflow:Restoring parameters from .\\lenet\n",
      "TopKV2(values=array([[0.7286, 0.1970, 0.0368, 0.0127, 0.0053],\n",
      "       [0.7253, 0.1037, 0.0675, 0.0242, 0.0205],\n",
      "       [0.8018, 0.1456, 0.0485, 0.0028, 0.0007],\n",
      "       [0.9284, 0.0291, 0.0145, 0.0110, 0.0047],\n",
      "       [0.3178, 0.2581, 0.1013, 0.0734, 0.0451],\n",
      "       [0.9728, 0.0097, 0.0038, 0.0030, 0.0026]], dtype=float32), indices=array([[11, 21, 30, 27, 31],\n",
      "       [ 2,  1, 12, 40,  5],\n",
      "       [ 4,  0,  1, 14, 39],\n",
      "       [25, 29, 22, 20, 31],\n",
      "       [14,  1, 33,  4,  2],\n",
      "       [33, 40, 11, 12, 14]]))\n"
     ]
    }
   ],
   "source": [
    "### Print out the top five softmax probabilities for the predictions on the German traffic sign images found on the web. \n",
    "### Feel free to use as many code cells as needed.\n",
    "\n",
    "TOP3_prob = tf.nn.top_k(tf.nn.softmax(logits), k=5)\n",
    "\n",
    "#change print format of np.array\n",
    "float_formatter = lambda x: \"%.4f\" % x\n",
    "np.set_printoptions(formatter={'float_kind':float_formatter})\n",
    "\n",
    "\n",
    "with tf.Session() as sess:\n",
    "    saver.restore(sess, tf.train.latest_checkpoint('.'))\n",
    "    certainty = sess.run(TOP3_prob, feed_dict={x:X_web_imgs, keep_prob:1.0})\n",
    "    print(certainty)\n"
   ]
  },
  {
   "cell_type": "markdown",
   "metadata": {},
   "source": [
    "### Project Writeup\n",
    "\n",
    "Once you have completed the code implementation, document your results in a project writeup using this [template](https://github.com/udacity/CarND-Traffic-Sign-Classifier-Project/blob/master/writeup_template.md) as a guide. The writeup can be in a markdown or pdf file. "
   ]
  },
  {
   "cell_type": "markdown",
   "metadata": {},
   "source": [
    "> **Note**: Once you have completed all of the code implementations and successfully answered each question above, you may finalize your work by exporting the iPython Notebook as an HTML document. You can do this by using the menu above and navigating to  \\n\",\n",
    "    \"**File -> Download as -> HTML (.html)**. Include the finished document along with this notebook as your submission."
   ]
  },
  {
   "cell_type": "markdown",
   "metadata": {},
   "source": [
    "---\n",
    "\n",
    "## Step 4 (Optional): Visualize the Neural Network's State with Test Images\n",
    "\n",
    " This Section is not required to complete but acts as an additional excersise for understaning the output of a neural network's weights. While neural networks can be a great learning device they are often referred to as a black box. We can understand what the weights of a neural network look like better by plotting their feature maps. After successfully training your neural network you can see what it's feature maps look like by plotting the output of the network's weight layers in response to a test stimuli image. From these plotted feature maps, it's possible to see what characteristics of an image the network finds interesting. For a sign, maybe the inner network feature maps react with high activation to the sign's boundary outline or to the contrast in the sign's painted symbol.\n",
    "\n",
    " Provided for you below is the function code that allows you to get the visualization output of any tensorflow weight layer you want. The inputs to the function should be a stimuli image, one used during training or a new one you provided, and then the tensorflow variable name that represents the layer's state during the training process, for instance if you wanted to see what the [LeNet lab's](https://classroom.udacity.com/nanodegrees/nd013/parts/fbf77062-5703-404e-b60c-95b78b2f3f9e/modules/6df7ae49-c61c-4bb2-a23e-6527e69209ec/lessons/601ae704-1035-4287-8b11-e2c2716217ad/concepts/d4aca031-508f-4e0b-b493-e7b706120f81) feature maps looked like for it's second convolutional layer you could enter conv2 as the tf_activation variable.\n",
    "\n",
    "For an example of what feature map outputs look like, check out NVIDIA's results in their paper [End-to-End Deep Learning for Self-Driving Cars](https://devblogs.nvidia.com/parallelforall/deep-learning-self-driving-cars/) in the section Visualization of internal CNN State. NVIDIA was able to show that their network's inner weights had high activations to road boundary lines by comparing feature maps from an image with a clear path to one without. Try experimenting with a similar test to show that your trained network's weights are looking for interesting features, whether it's looking at differences in feature maps from images with or without a sign, or even what feature maps look like in a trained network vs a completely untrained one on the same sign image.\n",
    "\n",
    "<figure>\n",
    " <img src=\"visualize_cnn.png\" width=\"380\" alt=\"Combined Image\" />\n",
    " <figcaption>\n",
    " <p></p> \n",
    " <p style=\"text-align: center;\"> Your output should look something like this (above)</p> \n",
    " </figcaption>\n",
    "</figure>\n",
    " <p></p> \n"
   ]
  },
  {
   "cell_type": "code",
   "execution_count": 57,
   "metadata": {},
   "outputs": [],
   "source": [
    "### Visualize your network's feature maps here.\n",
    "### Feel free to use as many code cells as needed.\n",
    "\n",
    "# image_input: the test image being fed into the network to produce the feature maps\n",
    "# tf_activation: should be a tf variable name used during your training procedure that represents the calculated state of a specific weight layer\n",
    "# activation_min/max: can be used to view the activation contrast in more detail, by default matplot sets min and max to the actual min and max values of the output\n",
    "# plt_num: used to plot out multiple different weight feature map sets on the same block, just extend the plt number for each new feature map entry\n",
    "\n",
    "def outputFeatureMap(image_input, tf_activation, activation_min=-1, activation_max=-1 ,plt_num=1):\n",
    "    # Here make sure to preprocess your image_input in a way your network expects\n",
    "    # with size, normalization, ect if needed\n",
    "    # image_input =\n",
    "    # Note: x should be the same name as your network's tensorflow data placeholder variable\n",
    "    # If you get an error tf_activation is not defined it may be having trouble accessing the variable from inside a function\n",
    "    activation = tf_activation.eval(session=sess,feed_dict={x : image_input, keep_prob:1.0})\n",
    "    featuremaps = activation.shape[3]\n",
    "    plt.figure(plt_num, figsize=(15,15))\n",
    "    for featuremap in range(featuremaps):\n",
    "        plt.subplot(6,8, featuremap+1) # sets the number of feature maps to show on each row and column\n",
    "        plt.title('FeatureMap ' + str(featuremap)) # displays the feature map number\n",
    "        if activation_min != -1 & activation_max != -1:\n",
    "            plt.imshow(activation[0,:,:, featuremap], interpolation=\"nearest\", vmin =activation_min, vmax=activation_max, cmap=\"gray\")\n",
    "        elif activation_max != -1:\n",
    "            plt.imshow(activation[0,:,:, featuremap], interpolation=\"nearest\", vmax=activation_max, cmap=\"gray\")\n",
    "        elif activation_min !=-1:\n",
    "            plt.imshow(activation[0,:,:, featuremap], interpolation=\"nearest\", vmin=activation_min, cmap=\"gray\")\n",
    "        else:\n",
    "            plt.imshow(activation[0,:,:, featuremap], interpolation=\"nearest\", cmap=\"gray\")"
   ]
  },
  {
   "cell_type": "code",
   "execution_count": 41,
   "metadata": {},
   "outputs": [
    {
     "data": {
      "text/plain": [
       "<matplotlib.image.AxesImage at 0x116a4276470>"
      ]
     },
     "execution_count": 41,
     "metadata": {},
     "output_type": "execute_result"
    },
    {
     "data": {
      "image/png": "[encoded data removed]",
      "text/plain": [
       "<matplotlib.figure.Figure at 0x116cd3c4240>"
      ]
     },
     "metadata": {},
     "output_type": "display_data"
    }
   ],
   "source": [
    "plt.imshow(test_imgs[1])\n"
   ]
  },
  {
   "cell_type": "code",
   "execution_count": 59,
   "metadata": {},
   "outputs": [
    {
     "name": "stdout",
     "output_type": "stream",
     "text": [
      "INFO:tensorflow:Restoring parameters from .\\lenet\n"
     ]
    },
    {
     "data": {
      "image/png": "[encoded data removed]",
      "text/plain": [
       "<matplotlib.figure.Figure at 0x116cd4f7400>"
      ]
     },
     "metadata": {},
     "output_type": "display_data"
    }
   ],
   "source": [
    "with tf.Session() as sess:\n",
    "    saver.restore(sess, tf.train.latest_checkpoint('.'))\n",
    "    outputFeatureMap([X_web_imgs[1]], hidden_layer_1)"
   ]
  }
 ],
 "metadata": {
  "anaconda-cloud": {},
  "kernelspec": {
   "display_name": "Python 3",
   "language": "python",
   "name": "python3"
  },
  "language_info": {
   "codemirror_mode": {
    "name": "ipython",
    "version": 3
   },
   "file_extension": ".py",
   "mimetype": "text/x-python",
   "name": "python",
   "nbconvert_exporter": "python",
   "pygments_lexer": "ipython3",
   "version": "3.6.4"
  }
 },
 "nbformat": 4,
 "nbformat_minor": 2
}
